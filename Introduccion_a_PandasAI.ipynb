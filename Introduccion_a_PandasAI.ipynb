{
  "nbformat": 4,
  "nbformat_minor": 0,
  "metadata": {
    "colab": {
      "provenance": [],
      "include_colab_link": true
    },
    "kernelspec": {
      "name": "python3",
      "display_name": "Python 3"
    },
    "language_info": {
      "name": "python"
    }
  },
  "cells": [
    {
      "cell_type": "markdown",
      "metadata": {
        "id": "view-in-github",
        "colab_type": "text"
      },
      "source": [
        "<a href=\"https://colab.research.google.com/github/ronaldvl/PandasIA/blob/main/Introduccion_a_PandasAI.ipynb\" target=\"_parent\"><img src=\"https://colab.research.google.com/assets/colab-badge.svg\" alt=\"Open In Colab\"/></a>"
      ]
    },
    {
      "cell_type": "markdown",
      "source": [
        "# PandasAI\n",
        "\n",
        "PandasAI es una innovadora biblioteca que reinventa la forma en que abordamos el análisis de datos, transformándolo en una experiencia conversacional y entretenida. Esta biblioteca combina la potencia de los DataFrames de Pandas con los modelos de lenguaje más avanzados (LLM), permitiendo a los usuarios realizar análisis de datos de manera natural y enriquecedora, a través de conversaciones interactivas."
      ],
      "metadata": {
        "id": "5m9QRh2ofb0M"
      }
    },
    {
      "cell_type": "markdown",
      "source": [
        "## Setup\n",
        "Para comenzar, necesitamos instalar la última versión de PandasAI."
      ],
      "metadata": {
        "id": "8duxIdoChr2g"
      }
    },
    {
      "cell_type": "code",
      "execution_count": null,
      "metadata": {
        "id": "L9szBbbJe30_"
      },
      "outputs": [],
      "source": [
        "!pip install pandasai"
      ]
    },
    {
      "cell_type": "code",
      "source": [
        "from google.colab import drive\n",
        "drive.mount('/content/drive')"
      ],
      "metadata": {
        "id": "gVy_gHLywrh5",
        "outputId": "3fd1de99-3f2c-41bb-923f-8a4da360063e",
        "colab": {
          "base_uri": "https://localhost:8080/"
        }
      },
      "execution_count": null,
      "outputs": [
        {
          "output_type": "stream",
          "name": "stdout",
          "text": [
            "Mounted at /content/drive\n"
          ]
        }
      ]
    },
    {
      "cell_type": "markdown",
      "source": [
        "### Importing from a pandas dataframe"
      ],
      "metadata": {
        "id": "e4eRiyvYAlN6"
      }
    },
    {
      "cell_type": "markdown",
      "source": [
        "To import from a pandas dataframe, you need to import the pandas libraries and create a dataframe first."
      ],
      "metadata": {
        "id": "viepQXfkglJY"
      }
    },
    {
      "cell_type": "code",
      "source": [
        "import pandas as pd"
      ],
      "metadata": {
        "id": "LOj6QLWGLMlD"
      },
      "execution_count": null,
      "outputs": []
    },
    {
      "cell_type": "code",
      "source": [
        "df_chi = pd.read_excel('/content/drive/MyDrive/Colab Notebooks/MigrantesChile (2005-2016).xlsx',\n",
        "                      sheet_name='Migrantes',\n",
        "                      skipfooter=3)\n",
        "\n",
        "print ('Data read into a pandas dataframe!')"
      ],
      "metadata": {
        "id": "RWvNfi3Nvloo",
        "outputId": "a84a6a2a-4c64-4214-e276-17ca4df2b39b",
        "colab": {
          "base_uri": "https://localhost:8080/"
        }
      },
      "execution_count": null,
      "outputs": [
        {
          "output_type": "stream",
          "name": "stdout",
          "text": [
            "Data read into a pandas dataframe!\n"
          ]
        }
      ]
    },
    {
      "cell_type": "code",
      "source": [
        "df_chi"
      ],
      "metadata": {
        "id": "pGewC-nTvplU",
        "outputId": "8285446d-d32c-4bda-e76a-1dfac7bed7a0",
        "colab": {
          "base_uri": "https://localhost:8080/",
          "height": 424
        }
      },
      "execution_count": null,
      "outputs": [
        {
          "output_type": "execute_result",
          "data": {
            "text/plain": [
              "     ID Continent Continent  ID Country      Country  2005  2006  2007  2008  \\\n",
              "0             142      Asia         308  Afghanistan     8     4     5     1   \n",
              "1             150    Europe         518      Albania     2     1     1     2   \n",
              "2             150    Europe         563      Germany   495   481   562   614   \n",
              "3             150    Europe         525      Andorra     2     1     1     1   \n",
              "4               2    Africa         140       Angola     1     2     4     3   \n",
              "..            ...       ...         ...          ...   ...   ...   ...   ...   \n",
              "169             2    Africa         136       Uganda     0     0     0     0   \n",
              "170            19   America         223      Uruguay  1077  1099  1275  1271   \n",
              "171           142      Asia         560   Uzbekistan     2     4     1     2   \n",
              "172            19   America         201    Venezuela   567   618   773   819   \n",
              "173           142      Asia         325      Vietnam     1     3     0     0   \n",
              "\n",
              "     2009  2010  2011  2012  2013  2014  2015   2016  \n",
              "0       2     1     3     6    15     4    12     15  \n",
              "1       2     5     3     2     1     2     7     11  \n",
              "2     587   644   685   747   687   845   778    582  \n",
              "3       0     0     2     0     1     2     2      1  \n",
              "4       2     4     6     8     1     1    13     19  \n",
              "..    ...   ...   ...   ...   ...   ...   ...    ...  \n",
              "169     0     0     1     0     1     0     1      0  \n",
              "170  1171  1190  1075  1186   956   957  1072    858  \n",
              "171     0     1     2     4     2     1     1      4  \n",
              "172  1013  1091  1453  1760  2015  3557  9730  26623  \n",
              "173     0     0     0     3     3    12    13      4  \n",
              "\n",
              "[174 rows x 16 columns]"
            ],
            "text/html": [
              "\n",
              "  <div id=\"df-0fd9f3c1-d651-4852-8ece-58e12fe55464\" class=\"colab-df-container\">\n",
              "    <div>\n",
              "<style scoped>\n",
              "    .dataframe tbody tr th:only-of-type {\n",
              "        vertical-align: middle;\n",
              "    }\n",
              "\n",
              "    .dataframe tbody tr th {\n",
              "        vertical-align: top;\n",
              "    }\n",
              "\n",
              "    .dataframe thead th {\n",
              "        text-align: right;\n",
              "    }\n",
              "</style>\n",
              "<table border=\"1\" class=\"dataframe\">\n",
              "  <thead>\n",
              "    <tr style=\"text-align: right;\">\n",
              "      <th></th>\n",
              "      <th>ID Continent</th>\n",
              "      <th>Continent</th>\n",
              "      <th>ID Country</th>\n",
              "      <th>Country</th>\n",
              "      <th>2005</th>\n",
              "      <th>2006</th>\n",
              "      <th>2007</th>\n",
              "      <th>2008</th>\n",
              "      <th>2009</th>\n",
              "      <th>2010</th>\n",
              "      <th>2011</th>\n",
              "      <th>2012</th>\n",
              "      <th>2013</th>\n",
              "      <th>2014</th>\n",
              "      <th>2015</th>\n",
              "      <th>2016</th>\n",
              "    </tr>\n",
              "  </thead>\n",
              "  <tbody>\n",
              "    <tr>\n",
              "      <th>0</th>\n",
              "      <td>142</td>\n",
              "      <td>Asia</td>\n",
              "      <td>308</td>\n",
              "      <td>Afghanistan</td>\n",
              "      <td>8</td>\n",
              "      <td>4</td>\n",
              "      <td>5</td>\n",
              "      <td>1</td>\n",
              "      <td>2</td>\n",
              "      <td>1</td>\n",
              "      <td>3</td>\n",
              "      <td>6</td>\n",
              "      <td>15</td>\n",
              "      <td>4</td>\n",
              "      <td>12</td>\n",
              "      <td>15</td>\n",
              "    </tr>\n",
              "    <tr>\n",
              "      <th>1</th>\n",
              "      <td>150</td>\n",
              "      <td>Europe</td>\n",
              "      <td>518</td>\n",
              "      <td>Albania</td>\n",
              "      <td>2</td>\n",
              "      <td>1</td>\n",
              "      <td>1</td>\n",
              "      <td>2</td>\n",
              "      <td>2</td>\n",
              "      <td>5</td>\n",
              "      <td>3</td>\n",
              "      <td>2</td>\n",
              "      <td>1</td>\n",
              "      <td>2</td>\n",
              "      <td>7</td>\n",
              "      <td>11</td>\n",
              "    </tr>\n",
              "    <tr>\n",
              "      <th>2</th>\n",
              "      <td>150</td>\n",
              "      <td>Europe</td>\n",
              "      <td>563</td>\n",
              "      <td>Germany</td>\n",
              "      <td>495</td>\n",
              "      <td>481</td>\n",
              "      <td>562</td>\n",
              "      <td>614</td>\n",
              "      <td>587</td>\n",
              "      <td>644</td>\n",
              "      <td>685</td>\n",
              "      <td>747</td>\n",
              "      <td>687</td>\n",
              "      <td>845</td>\n",
              "      <td>778</td>\n",
              "      <td>582</td>\n",
              "    </tr>\n",
              "    <tr>\n",
              "      <th>3</th>\n",
              "      <td>150</td>\n",
              "      <td>Europe</td>\n",
              "      <td>525</td>\n",
              "      <td>Andorra</td>\n",
              "      <td>2</td>\n",
              "      <td>1</td>\n",
              "      <td>1</td>\n",
              "      <td>1</td>\n",
              "      <td>0</td>\n",
              "      <td>0</td>\n",
              "      <td>2</td>\n",
              "      <td>0</td>\n",
              "      <td>1</td>\n",
              "      <td>2</td>\n",
              "      <td>2</td>\n",
              "      <td>1</td>\n",
              "    </tr>\n",
              "    <tr>\n",
              "      <th>4</th>\n",
              "      <td>2</td>\n",
              "      <td>Africa</td>\n",
              "      <td>140</td>\n",
              "      <td>Angola</td>\n",
              "      <td>1</td>\n",
              "      <td>2</td>\n",
              "      <td>4</td>\n",
              "      <td>3</td>\n",
              "      <td>2</td>\n",
              "      <td>4</td>\n",
              "      <td>6</td>\n",
              "      <td>8</td>\n",
              "      <td>1</td>\n",
              "      <td>1</td>\n",
              "      <td>13</td>\n",
              "      <td>19</td>\n",
              "    </tr>\n",
              "    <tr>\n",
              "      <th>...</th>\n",
              "      <td>...</td>\n",
              "      <td>...</td>\n",
              "      <td>...</td>\n",
              "      <td>...</td>\n",
              "      <td>...</td>\n",
              "      <td>...</td>\n",
              "      <td>...</td>\n",
              "      <td>...</td>\n",
              "      <td>...</td>\n",
              "      <td>...</td>\n",
              "      <td>...</td>\n",
              "      <td>...</td>\n",
              "      <td>...</td>\n",
              "      <td>...</td>\n",
              "      <td>...</td>\n",
              "      <td>...</td>\n",
              "    </tr>\n",
              "    <tr>\n",
              "      <th>169</th>\n",
              "      <td>2</td>\n",
              "      <td>Africa</td>\n",
              "      <td>136</td>\n",
              "      <td>Uganda</td>\n",
              "      <td>0</td>\n",
              "      <td>0</td>\n",
              "      <td>0</td>\n",
              "      <td>0</td>\n",
              "      <td>0</td>\n",
              "      <td>0</td>\n",
              "      <td>1</td>\n",
              "      <td>0</td>\n",
              "      <td>1</td>\n",
              "      <td>0</td>\n",
              "      <td>1</td>\n",
              "      <td>0</td>\n",
              "    </tr>\n",
              "    <tr>\n",
              "      <th>170</th>\n",
              "      <td>19</td>\n",
              "      <td>America</td>\n",
              "      <td>223</td>\n",
              "      <td>Uruguay</td>\n",
              "      <td>1077</td>\n",
              "      <td>1099</td>\n",
              "      <td>1275</td>\n",
              "      <td>1271</td>\n",
              "      <td>1171</td>\n",
              "      <td>1190</td>\n",
              "      <td>1075</td>\n",
              "      <td>1186</td>\n",
              "      <td>956</td>\n",
              "      <td>957</td>\n",
              "      <td>1072</td>\n",
              "      <td>858</td>\n",
              "    </tr>\n",
              "    <tr>\n",
              "      <th>171</th>\n",
              "      <td>142</td>\n",
              "      <td>Asia</td>\n",
              "      <td>560</td>\n",
              "      <td>Uzbekistan</td>\n",
              "      <td>2</td>\n",
              "      <td>4</td>\n",
              "      <td>1</td>\n",
              "      <td>2</td>\n",
              "      <td>0</td>\n",
              "      <td>1</td>\n",
              "      <td>2</td>\n",
              "      <td>4</td>\n",
              "      <td>2</td>\n",
              "      <td>1</td>\n",
              "      <td>1</td>\n",
              "      <td>4</td>\n",
              "    </tr>\n",
              "    <tr>\n",
              "      <th>172</th>\n",
              "      <td>19</td>\n",
              "      <td>America</td>\n",
              "      <td>201</td>\n",
              "      <td>Venezuela</td>\n",
              "      <td>567</td>\n",
              "      <td>618</td>\n",
              "      <td>773</td>\n",
              "      <td>819</td>\n",
              "      <td>1013</td>\n",
              "      <td>1091</td>\n",
              "      <td>1453</td>\n",
              "      <td>1760</td>\n",
              "      <td>2015</td>\n",
              "      <td>3557</td>\n",
              "      <td>9730</td>\n",
              "      <td>26623</td>\n",
              "    </tr>\n",
              "    <tr>\n",
              "      <th>173</th>\n",
              "      <td>142</td>\n",
              "      <td>Asia</td>\n",
              "      <td>325</td>\n",
              "      <td>Vietnam</td>\n",
              "      <td>1</td>\n",
              "      <td>3</td>\n",
              "      <td>0</td>\n",
              "      <td>0</td>\n",
              "      <td>0</td>\n",
              "      <td>0</td>\n",
              "      <td>0</td>\n",
              "      <td>3</td>\n",
              "      <td>3</td>\n",
              "      <td>12</td>\n",
              "      <td>13</td>\n",
              "      <td>4</td>\n",
              "    </tr>\n",
              "  </tbody>\n",
              "</table>\n",
              "<p>174 rows × 16 columns</p>\n",
              "</div>\n",
              "    <div class=\"colab-df-buttons\">\n",
              "\n",
              "  <div class=\"colab-df-container\">\n",
              "    <button class=\"colab-df-convert\" onclick=\"convertToInteractive('df-0fd9f3c1-d651-4852-8ece-58e12fe55464')\"\n",
              "            title=\"Convert this dataframe to an interactive table.\"\n",
              "            style=\"display:none;\">\n",
              "\n",
              "  <svg xmlns=\"http://www.w3.org/2000/svg\" height=\"24px\" viewBox=\"0 -960 960 960\">\n",
              "    <path d=\"M120-120v-720h720v720H120Zm60-500h600v-160H180v160Zm220 220h160v-160H400v160Zm0 220h160v-160H400v160ZM180-400h160v-160H180v160Zm440 0h160v-160H620v160ZM180-180h160v-160H180v160Zm440 0h160v-160H620v160Z\"/>\n",
              "  </svg>\n",
              "    </button>\n",
              "\n",
              "  <style>\n",
              "    .colab-df-container {\n",
              "      display:flex;\n",
              "      gap: 12px;\n",
              "    }\n",
              "\n",
              "    .colab-df-convert {\n",
              "      background-color: #E8F0FE;\n",
              "      border: none;\n",
              "      border-radius: 50%;\n",
              "      cursor: pointer;\n",
              "      display: none;\n",
              "      fill: #1967D2;\n",
              "      height: 32px;\n",
              "      padding: 0 0 0 0;\n",
              "      width: 32px;\n",
              "    }\n",
              "\n",
              "    .colab-df-convert:hover {\n",
              "      background-color: #E2EBFA;\n",
              "      box-shadow: 0px 1px 2px rgba(60, 64, 67, 0.3), 0px 1px 3px 1px rgba(60, 64, 67, 0.15);\n",
              "      fill: #174EA6;\n",
              "    }\n",
              "\n",
              "    .colab-df-buttons div {\n",
              "      margin-bottom: 4px;\n",
              "    }\n",
              "\n",
              "    [theme=dark] .colab-df-convert {\n",
              "      background-color: #3B4455;\n",
              "      fill: #D2E3FC;\n",
              "    }\n",
              "\n",
              "    [theme=dark] .colab-df-convert:hover {\n",
              "      background-color: #434B5C;\n",
              "      box-shadow: 0px 1px 3px 1px rgba(0, 0, 0, 0.15);\n",
              "      filter: drop-shadow(0px 1px 2px rgba(0, 0, 0, 0.3));\n",
              "      fill: #FFFFFF;\n",
              "    }\n",
              "  </style>\n",
              "\n",
              "    <script>\n",
              "      const buttonEl =\n",
              "        document.querySelector('#df-0fd9f3c1-d651-4852-8ece-58e12fe55464 button.colab-df-convert');\n",
              "      buttonEl.style.display =\n",
              "        google.colab.kernel.accessAllowed ? 'block' : 'none';\n",
              "\n",
              "      async function convertToInteractive(key) {\n",
              "        const element = document.querySelector('#df-0fd9f3c1-d651-4852-8ece-58e12fe55464');\n",
              "        const dataTable =\n",
              "          await google.colab.kernel.invokeFunction('convertToInteractive',\n",
              "                                                    [key], {});\n",
              "        if (!dataTable) return;\n",
              "\n",
              "        const docLinkHtml = 'Like what you see? Visit the ' +\n",
              "          '<a target=\"_blank\" href=https://colab.research.google.com/notebooks/data_table.ipynb>data table notebook</a>'\n",
              "          + ' to learn more about interactive tables.';\n",
              "        element.innerHTML = '';\n",
              "        dataTable['output_type'] = 'display_data';\n",
              "        await google.colab.output.renderOutput(dataTable, element);\n",
              "        const docLink = document.createElement('div');\n",
              "        docLink.innerHTML = docLinkHtml;\n",
              "        element.appendChild(docLink);\n",
              "      }\n",
              "    </script>\n",
              "  </div>\n",
              "\n",
              "\n",
              "<div id=\"df-6446b884-5dc5-45b7-b8ab-60338580c73d\">\n",
              "  <button class=\"colab-df-quickchart\" onclick=\"quickchart('df-6446b884-5dc5-45b7-b8ab-60338580c73d')\"\n",
              "            title=\"Suggest charts.\"\n",
              "            style=\"display:none;\">\n",
              "\n",
              "<svg xmlns=\"http://www.w3.org/2000/svg\" height=\"24px\"viewBox=\"0 0 24 24\"\n",
              "     width=\"24px\">\n",
              "    <g>\n",
              "        <path d=\"M19 3H5c-1.1 0-2 .9-2 2v14c0 1.1.9 2 2 2h14c1.1 0 2-.9 2-2V5c0-1.1-.9-2-2-2zM9 17H7v-7h2v7zm4 0h-2V7h2v10zm4 0h-2v-4h2v4z\"/>\n",
              "    </g>\n",
              "</svg>\n",
              "  </button>\n",
              "\n",
              "<style>\n",
              "  .colab-df-quickchart {\n",
              "      --bg-color: #E8F0FE;\n",
              "      --fill-color: #1967D2;\n",
              "      --hover-bg-color: #E2EBFA;\n",
              "      --hover-fill-color: #174EA6;\n",
              "      --disabled-fill-color: #AAA;\n",
              "      --disabled-bg-color: #DDD;\n",
              "  }\n",
              "\n",
              "  [theme=dark] .colab-df-quickchart {\n",
              "      --bg-color: #3B4455;\n",
              "      --fill-color: #D2E3FC;\n",
              "      --hover-bg-color: #434B5C;\n",
              "      --hover-fill-color: #FFFFFF;\n",
              "      --disabled-bg-color: #3B4455;\n",
              "      --disabled-fill-color: #666;\n",
              "  }\n",
              "\n",
              "  .colab-df-quickchart {\n",
              "    background-color: var(--bg-color);\n",
              "    border: none;\n",
              "    border-radius: 50%;\n",
              "    cursor: pointer;\n",
              "    display: none;\n",
              "    fill: var(--fill-color);\n",
              "    height: 32px;\n",
              "    padding: 0;\n",
              "    width: 32px;\n",
              "  }\n",
              "\n",
              "  .colab-df-quickchart:hover {\n",
              "    background-color: var(--hover-bg-color);\n",
              "    box-shadow: 0 1px 2px rgba(60, 64, 67, 0.3), 0 1px 3px 1px rgba(60, 64, 67, 0.15);\n",
              "    fill: var(--button-hover-fill-color);\n",
              "  }\n",
              "\n",
              "  .colab-df-quickchart-complete:disabled,\n",
              "  .colab-df-quickchart-complete:disabled:hover {\n",
              "    background-color: var(--disabled-bg-color);\n",
              "    fill: var(--disabled-fill-color);\n",
              "    box-shadow: none;\n",
              "  }\n",
              "\n",
              "  .colab-df-spinner {\n",
              "    border: 2px solid var(--fill-color);\n",
              "    border-color: transparent;\n",
              "    border-bottom-color: var(--fill-color);\n",
              "    animation:\n",
              "      spin 1s steps(1) infinite;\n",
              "  }\n",
              "\n",
              "  @keyframes spin {\n",
              "    0% {\n",
              "      border-color: transparent;\n",
              "      border-bottom-color: var(--fill-color);\n",
              "      border-left-color: var(--fill-color);\n",
              "    }\n",
              "    20% {\n",
              "      border-color: transparent;\n",
              "      border-left-color: var(--fill-color);\n",
              "      border-top-color: var(--fill-color);\n",
              "    }\n",
              "    30% {\n",
              "      border-color: transparent;\n",
              "      border-left-color: var(--fill-color);\n",
              "      border-top-color: var(--fill-color);\n",
              "      border-right-color: var(--fill-color);\n",
              "    }\n",
              "    40% {\n",
              "      border-color: transparent;\n",
              "      border-right-color: var(--fill-color);\n",
              "      border-top-color: var(--fill-color);\n",
              "    }\n",
              "    60% {\n",
              "      border-color: transparent;\n",
              "      border-right-color: var(--fill-color);\n",
              "    }\n",
              "    80% {\n",
              "      border-color: transparent;\n",
              "      border-right-color: var(--fill-color);\n",
              "      border-bottom-color: var(--fill-color);\n",
              "    }\n",
              "    90% {\n",
              "      border-color: transparent;\n",
              "      border-bottom-color: var(--fill-color);\n",
              "    }\n",
              "  }\n",
              "</style>\n",
              "\n",
              "  <script>\n",
              "    async function quickchart(key) {\n",
              "      const quickchartButtonEl =\n",
              "        document.querySelector('#' + key + ' button');\n",
              "      quickchartButtonEl.disabled = true;  // To prevent multiple clicks.\n",
              "      quickchartButtonEl.classList.add('colab-df-spinner');\n",
              "      try {\n",
              "        const charts = await google.colab.kernel.invokeFunction(\n",
              "            'suggestCharts', [key], {});\n",
              "      } catch (error) {\n",
              "        console.error('Error during call to suggestCharts:', error);\n",
              "      }\n",
              "      quickchartButtonEl.classList.remove('colab-df-spinner');\n",
              "      quickchartButtonEl.classList.add('colab-df-quickchart-complete');\n",
              "    }\n",
              "    (() => {\n",
              "      let quickchartButtonEl =\n",
              "        document.querySelector('#df-6446b884-5dc5-45b7-b8ab-60338580c73d button');\n",
              "      quickchartButtonEl.style.display =\n",
              "        google.colab.kernel.accessAllowed ? 'block' : 'none';\n",
              "    })();\n",
              "  </script>\n",
              "</div>\n",
              "    </div>\n",
              "  </div>\n"
            ]
          },
          "metadata": {},
          "execution_count": 5
        }
      ]
    },
    {
      "cell_type": "code",
      "source": [
        "df_unpivot = pd.melt(df_chi, id_vars=['Continent', 'Country'], value_vars=[2005, 2006, 2007,2008,2009,2010,2011,2012,2013,2014,2015,2016], var_name='Año', value_name='Inmigrant')\n",
        "\n",
        "#view updated DataFrame\n",
        "print(df_unpivot)"
      ],
      "metadata": {
        "id": "5Gz7XdAFT04u",
        "outputId": "b07dd196-fd0a-49d2-889f-bd01952cf946",
        "colab": {
          "base_uri": "https://localhost:8080/"
        }
      },
      "execution_count": null,
      "outputs": [
        {
          "output_type": "stream",
          "name": "stdout",
          "text": [
            "     Continent      Country   Año  Inmigrant\n",
            "0         Asia  Afghanistan  2005          8\n",
            "1       Europe      Albania  2005          2\n",
            "2       Europe      Germany  2005        495\n",
            "3       Europe      Andorra  2005          2\n",
            "4       Africa       Angola  2005          1\n",
            "...        ...          ...   ...        ...\n",
            "2083    Africa       Uganda  2016          0\n",
            "2084   America      Uruguay  2016        858\n",
            "2085      Asia   Uzbekistan  2016          4\n",
            "2086   America    Venezuela  2016      26623\n",
            "2087      Asia      Vietnam  2016          4\n",
            "\n",
            "[2088 rows x 4 columns]\n"
          ]
        }
      ]
    },
    {
      "cell_type": "markdown",
      "source": [
        "# SmartDataframe\n",
        "\n",
        "\n",
        "Un SmartDataFrame es una extensión del DataFrame de Pandas que no solo hereda todas las propiedades y métodos del pd.DataFrame, sino que también incorpora características avanzadas de procesamiento de lenguaje natural, permitiendo así la interacción en lenguaje conversacional de manera fluida."
      ],
      "metadata": {
        "id": "EkSwZhHqfIzg"
      }
    },
    {
      "cell_type": "code",
      "source": [
        "from pandasai import SmartDataframe"
      ],
      "metadata": {
        "id": "DKTLrefOgGYj"
      },
      "execution_count": null,
      "outputs": []
    },
    {
      "cell_type": "markdown",
      "source": [
        "Dado que PandasAI funciona con un LLM, debe importar el LLM que desea utilizar para su caso de uso. En ese caso usaremos OpenAI.\n",
        "\n",
        "Para utilizar OpenAI, necesitará un token API. Siga los sencillos pasos a continuación para generar su API_TOKEN con\n",
        "[openai](https://platform.openai.com/overview).\n",
        "\n",
        "1.  Vaya a https://openai.com/api/ y regístrese con su dirección de correo electrónico o conecte su cuenta de Google.\n",
        "2.  Vaya a Ver claves API en el lado izquierdo de la configuración de su cuenta personal.\n",
        "3.  Seleccione Crear nueva clave secreta.\n",
        "\n",
        "**Importante:** El acceso API a openai es un servicio pago. Tienes que configurar la facturación.\n",
        "Por favor lea la información de [Precios](https://platform.openai.com/docs/quickstart/pricing) antes de experimentar."
      ],
      "metadata": {
        "id": "2bD7r0EtgsdD"
      }
    },
    {
      "cell_type": "code",
      "source": [
        "from pandasai.llm import OpenAI\n",
        "\n",
        "llm = OpenAI(api_token=\"Your Tokren\")"
      ],
      "metadata": {
        "id": "rB64X01YgrmH"
      },
      "execution_count": null,
      "outputs": []
    },
    {
      "cell_type": "markdown",
      "source": [
        "Now that we have instantiated the LLM, we can finally instantiate the `SmartDataframe`"
      ],
      "metadata": {
        "id": "TlhiAynHiQ0y"
      }
    },
    {
      "cell_type": "code",
      "source": [
        "sdf = SmartDataframe(df_unpivot, config={\"llm\": llm})"
      ],
      "metadata": {
        "id": "hXFeO02JiYRC"
      },
      "execution_count": null,
      "outputs": []
    },
    {
      "cell_type": "markdown",
      "source": [
        "A `SmartDataframe` inherits all the methods and properties from the original dataframe. For example:"
      ],
      "metadata": {
        "id": "_-6qOIbHidtm"
      }
    },
    {
      "cell_type": "code",
      "source": [
        "sdf[sdf['Country'] == 'United States']"
      ],
      "metadata": {
        "colab": {
          "base_uri": "https://localhost:8080/",
          "height": 426
        },
        "id": "39NiBGZWim2q",
        "outputId": "0bdb85ae-e5cf-4076-e044-95dc2afa2114"
      },
      "execution_count": null,
      "outputs": [
        {
          "output_type": "execute_result",
          "data": {
            "text/plain": [
              "     Continent        Country   Año  Inmigrant\n",
              "53     America  United States  2005       1984\n",
              "227    America  United States  2006       1926\n",
              "401    America  United States  2007       2041\n",
              "575    America  United States  2008       2377\n",
              "749    America  United States  2009       2615\n",
              "923    America  United States  2010       3287\n",
              "1097   America  United States  2011       3425\n",
              "1271   America  United States  2012       3976\n",
              "1445   America  United States  2013       3749\n",
              "1619   America  United States  2014       3796\n",
              "1793   America  United States  2015       3413\n",
              "1967   America  United States  2016       2673"
            ],
            "text/html": [
              "\n",
              "  <div id=\"df-51815ea8-6075-450e-a8ee-cf7e7181b930\" class=\"colab-df-container\">\n",
              "    <div>\n",
              "<style scoped>\n",
              "    .dataframe tbody tr th:only-of-type {\n",
              "        vertical-align: middle;\n",
              "    }\n",
              "\n",
              "    .dataframe tbody tr th {\n",
              "        vertical-align: top;\n",
              "    }\n",
              "\n",
              "    .dataframe thead th {\n",
              "        text-align: right;\n",
              "    }\n",
              "</style>\n",
              "<table border=\"1\" class=\"dataframe\">\n",
              "  <thead>\n",
              "    <tr style=\"text-align: right;\">\n",
              "      <th></th>\n",
              "      <th>Continent</th>\n",
              "      <th>Country</th>\n",
              "      <th>Año</th>\n",
              "      <th>Inmigrant</th>\n",
              "    </tr>\n",
              "  </thead>\n",
              "  <tbody>\n",
              "    <tr>\n",
              "      <th>53</th>\n",
              "      <td>America</td>\n",
              "      <td>United States</td>\n",
              "      <td>2005</td>\n",
              "      <td>1984</td>\n",
              "    </tr>\n",
              "    <tr>\n",
              "      <th>227</th>\n",
              "      <td>America</td>\n",
              "      <td>United States</td>\n",
              "      <td>2006</td>\n",
              "      <td>1926</td>\n",
              "    </tr>\n",
              "    <tr>\n",
              "      <th>401</th>\n",
              "      <td>America</td>\n",
              "      <td>United States</td>\n",
              "      <td>2007</td>\n",
              "      <td>2041</td>\n",
              "    </tr>\n",
              "    <tr>\n",
              "      <th>575</th>\n",
              "      <td>America</td>\n",
              "      <td>United States</td>\n",
              "      <td>2008</td>\n",
              "      <td>2377</td>\n",
              "    </tr>\n",
              "    <tr>\n",
              "      <th>749</th>\n",
              "      <td>America</td>\n",
              "      <td>United States</td>\n",
              "      <td>2009</td>\n",
              "      <td>2615</td>\n",
              "    </tr>\n",
              "    <tr>\n",
              "      <th>923</th>\n",
              "      <td>America</td>\n",
              "      <td>United States</td>\n",
              "      <td>2010</td>\n",
              "      <td>3287</td>\n",
              "    </tr>\n",
              "    <tr>\n",
              "      <th>1097</th>\n",
              "      <td>America</td>\n",
              "      <td>United States</td>\n",
              "      <td>2011</td>\n",
              "      <td>3425</td>\n",
              "    </tr>\n",
              "    <tr>\n",
              "      <th>1271</th>\n",
              "      <td>America</td>\n",
              "      <td>United States</td>\n",
              "      <td>2012</td>\n",
              "      <td>3976</td>\n",
              "    </tr>\n",
              "    <tr>\n",
              "      <th>1445</th>\n",
              "      <td>America</td>\n",
              "      <td>United States</td>\n",
              "      <td>2013</td>\n",
              "      <td>3749</td>\n",
              "    </tr>\n",
              "    <tr>\n",
              "      <th>1619</th>\n",
              "      <td>America</td>\n",
              "      <td>United States</td>\n",
              "      <td>2014</td>\n",
              "      <td>3796</td>\n",
              "    </tr>\n",
              "    <tr>\n",
              "      <th>1793</th>\n",
              "      <td>America</td>\n",
              "      <td>United States</td>\n",
              "      <td>2015</td>\n",
              "      <td>3413</td>\n",
              "    </tr>\n",
              "    <tr>\n",
              "      <th>1967</th>\n",
              "      <td>America</td>\n",
              "      <td>United States</td>\n",
              "      <td>2016</td>\n",
              "      <td>2673</td>\n",
              "    </tr>\n",
              "  </tbody>\n",
              "</table>\n",
              "</div>\n",
              "    <div class=\"colab-df-buttons\">\n",
              "\n",
              "  <div class=\"colab-df-container\">\n",
              "    <button class=\"colab-df-convert\" onclick=\"convertToInteractive('df-51815ea8-6075-450e-a8ee-cf7e7181b930')\"\n",
              "            title=\"Convert this dataframe to an interactive table.\"\n",
              "            style=\"display:none;\">\n",
              "\n",
              "  <svg xmlns=\"http://www.w3.org/2000/svg\" height=\"24px\" viewBox=\"0 -960 960 960\">\n",
              "    <path d=\"M120-120v-720h720v720H120Zm60-500h600v-160H180v160Zm220 220h160v-160H400v160Zm0 220h160v-160H400v160ZM180-400h160v-160H180v160Zm440 0h160v-160H620v160ZM180-180h160v-160H180v160Zm440 0h160v-160H620v160Z\"/>\n",
              "  </svg>\n",
              "    </button>\n",
              "\n",
              "  <style>\n",
              "    .colab-df-container {\n",
              "      display:flex;\n",
              "      gap: 12px;\n",
              "    }\n",
              "\n",
              "    .colab-df-convert {\n",
              "      background-color: #E8F0FE;\n",
              "      border: none;\n",
              "      border-radius: 50%;\n",
              "      cursor: pointer;\n",
              "      display: none;\n",
              "      fill: #1967D2;\n",
              "      height: 32px;\n",
              "      padding: 0 0 0 0;\n",
              "      width: 32px;\n",
              "    }\n",
              "\n",
              "    .colab-df-convert:hover {\n",
              "      background-color: #E2EBFA;\n",
              "      box-shadow: 0px 1px 2px rgba(60, 64, 67, 0.3), 0px 1px 3px 1px rgba(60, 64, 67, 0.15);\n",
              "      fill: #174EA6;\n",
              "    }\n",
              "\n",
              "    .colab-df-buttons div {\n",
              "      margin-bottom: 4px;\n",
              "    }\n",
              "\n",
              "    [theme=dark] .colab-df-convert {\n",
              "      background-color: #3B4455;\n",
              "      fill: #D2E3FC;\n",
              "    }\n",
              "\n",
              "    [theme=dark] .colab-df-convert:hover {\n",
              "      background-color: #434B5C;\n",
              "      box-shadow: 0px 1px 3px 1px rgba(0, 0, 0, 0.15);\n",
              "      filter: drop-shadow(0px 1px 2px rgba(0, 0, 0, 0.3));\n",
              "      fill: #FFFFFF;\n",
              "    }\n",
              "  </style>\n",
              "\n",
              "    <script>\n",
              "      const buttonEl =\n",
              "        document.querySelector('#df-51815ea8-6075-450e-a8ee-cf7e7181b930 button.colab-df-convert');\n",
              "      buttonEl.style.display =\n",
              "        google.colab.kernel.accessAllowed ? 'block' : 'none';\n",
              "\n",
              "      async function convertToInteractive(key) {\n",
              "        const element = document.querySelector('#df-51815ea8-6075-450e-a8ee-cf7e7181b930');\n",
              "        const dataTable =\n",
              "          await google.colab.kernel.invokeFunction('convertToInteractive',\n",
              "                                                    [key], {});\n",
              "        if (!dataTable) return;\n",
              "\n",
              "        const docLinkHtml = 'Like what you see? Visit the ' +\n",
              "          '<a target=\"_blank\" href=https://colab.research.google.com/notebooks/data_table.ipynb>data table notebook</a>'\n",
              "          + ' to learn more about interactive tables.';\n",
              "        element.innerHTML = '';\n",
              "        dataTable['output_type'] = 'display_data';\n",
              "        await google.colab.output.renderOutput(dataTable, element);\n",
              "        const docLink = document.createElement('div');\n",
              "        docLink.innerHTML = docLinkHtml;\n",
              "        element.appendChild(docLink);\n",
              "      }\n",
              "    </script>\n",
              "  </div>\n",
              "\n",
              "\n",
              "<div id=\"df-a5605c58-24eb-4358-a000-7735a107c1f8\">\n",
              "  <button class=\"colab-df-quickchart\" onclick=\"quickchart('df-a5605c58-24eb-4358-a000-7735a107c1f8')\"\n",
              "            title=\"Suggest charts.\"\n",
              "            style=\"display:none;\">\n",
              "\n",
              "<svg xmlns=\"http://www.w3.org/2000/svg\" height=\"24px\"viewBox=\"0 0 24 24\"\n",
              "     width=\"24px\">\n",
              "    <g>\n",
              "        <path d=\"M19 3H5c-1.1 0-2 .9-2 2v14c0 1.1.9 2 2 2h14c1.1 0 2-.9 2-2V5c0-1.1-.9-2-2-2zM9 17H7v-7h2v7zm4 0h-2V7h2v10zm4 0h-2v-4h2v4z\"/>\n",
              "    </g>\n",
              "</svg>\n",
              "  </button>\n",
              "\n",
              "<style>\n",
              "  .colab-df-quickchart {\n",
              "      --bg-color: #E8F0FE;\n",
              "      --fill-color: #1967D2;\n",
              "      --hover-bg-color: #E2EBFA;\n",
              "      --hover-fill-color: #174EA6;\n",
              "      --disabled-fill-color: #AAA;\n",
              "      --disabled-bg-color: #DDD;\n",
              "  }\n",
              "\n",
              "  [theme=dark] .colab-df-quickchart {\n",
              "      --bg-color: #3B4455;\n",
              "      --fill-color: #D2E3FC;\n",
              "      --hover-bg-color: #434B5C;\n",
              "      --hover-fill-color: #FFFFFF;\n",
              "      --disabled-bg-color: #3B4455;\n",
              "      --disabled-fill-color: #666;\n",
              "  }\n",
              "\n",
              "  .colab-df-quickchart {\n",
              "    background-color: var(--bg-color);\n",
              "    border: none;\n",
              "    border-radius: 50%;\n",
              "    cursor: pointer;\n",
              "    display: none;\n",
              "    fill: var(--fill-color);\n",
              "    height: 32px;\n",
              "    padding: 0;\n",
              "    width: 32px;\n",
              "  }\n",
              "\n",
              "  .colab-df-quickchart:hover {\n",
              "    background-color: var(--hover-bg-color);\n",
              "    box-shadow: 0 1px 2px rgba(60, 64, 67, 0.3), 0 1px 3px 1px rgba(60, 64, 67, 0.15);\n",
              "    fill: var(--button-hover-fill-color);\n",
              "  }\n",
              "\n",
              "  .colab-df-quickchart-complete:disabled,\n",
              "  .colab-df-quickchart-complete:disabled:hover {\n",
              "    background-color: var(--disabled-bg-color);\n",
              "    fill: var(--disabled-fill-color);\n",
              "    box-shadow: none;\n",
              "  }\n",
              "\n",
              "  .colab-df-spinner {\n",
              "    border: 2px solid var(--fill-color);\n",
              "    border-color: transparent;\n",
              "    border-bottom-color: var(--fill-color);\n",
              "    animation:\n",
              "      spin 1s steps(1) infinite;\n",
              "  }\n",
              "\n",
              "  @keyframes spin {\n",
              "    0% {\n",
              "      border-color: transparent;\n",
              "      border-bottom-color: var(--fill-color);\n",
              "      border-left-color: var(--fill-color);\n",
              "    }\n",
              "    20% {\n",
              "      border-color: transparent;\n",
              "      border-left-color: var(--fill-color);\n",
              "      border-top-color: var(--fill-color);\n",
              "    }\n",
              "    30% {\n",
              "      border-color: transparent;\n",
              "      border-left-color: var(--fill-color);\n",
              "      border-top-color: var(--fill-color);\n",
              "      border-right-color: var(--fill-color);\n",
              "    }\n",
              "    40% {\n",
              "      border-color: transparent;\n",
              "      border-right-color: var(--fill-color);\n",
              "      border-top-color: var(--fill-color);\n",
              "    }\n",
              "    60% {\n",
              "      border-color: transparent;\n",
              "      border-right-color: var(--fill-color);\n",
              "    }\n",
              "    80% {\n",
              "      border-color: transparent;\n",
              "      border-right-color: var(--fill-color);\n",
              "      border-bottom-color: var(--fill-color);\n",
              "    }\n",
              "    90% {\n",
              "      border-color: transparent;\n",
              "      border-bottom-color: var(--fill-color);\n",
              "    }\n",
              "  }\n",
              "</style>\n",
              "\n",
              "  <script>\n",
              "    async function quickchart(key) {\n",
              "      const quickchartButtonEl =\n",
              "        document.querySelector('#' + key + ' button');\n",
              "      quickchartButtonEl.disabled = true;  // To prevent multiple clicks.\n",
              "      quickchartButtonEl.classList.add('colab-df-spinner');\n",
              "      try {\n",
              "        const charts = await google.colab.kernel.invokeFunction(\n",
              "            'suggestCharts', [key], {});\n",
              "      } catch (error) {\n",
              "        console.error('Error during call to suggestCharts:', error);\n",
              "      }\n",
              "      quickchartButtonEl.classList.remove('colab-df-spinner');\n",
              "      quickchartButtonEl.classList.add('colab-df-quickchart-complete');\n",
              "    }\n",
              "    (() => {\n",
              "      let quickchartButtonEl =\n",
              "        document.querySelector('#df-a5605c58-24eb-4358-a000-7735a107c1f8 button');\n",
              "      quickchartButtonEl.style.display =\n",
              "        google.colab.kernel.accessAllowed ? 'block' : 'none';\n",
              "    })();\n",
              "  </script>\n",
              "</div>\n",
              "    </div>\n",
              "  </div>\n"
            ]
          },
          "metadata": {},
          "execution_count": 10
        }
      ]
    },
    {
      "cell_type": "markdown",
      "source": [
        "But you can also query it in natural language"
      ],
      "metadata": {
        "id": "SEsxIYyTjHm1"
      }
    },
    {
      "cell_type": "code",
      "source": [
        "sdf.chat(\"los 5 paises con mas inmigrantes para todos los años\")"
      ],
      "metadata": {
        "colab": {
          "base_uri": "https://localhost:8080/",
          "height": 206
        },
        "id": "0pVAthBSjEpx",
        "outputId": "5180d716-2ac3-4a65-c197-4f1d3ec22281"
      },
      "execution_count": null,
      "outputs": [
        {
          "output_type": "execute_result",
          "data": {
            "text/plain": [
              "       Country  Inmigrant\n",
              "124       Peru     566630\n",
              "33    Colombia     223590\n",
              "19     Bolivia     192347\n",
              "6    Argentina      79747\n",
              "44     Ecuador      55227"
            ],
            "text/html": [
              "<div>\n",
              "<style scoped>\n",
              "    .dataframe tbody tr th:only-of-type {\n",
              "        vertical-align: middle;\n",
              "    }\n",
              "\n",
              "    .dataframe tbody tr th {\n",
              "        vertical-align: top;\n",
              "    }\n",
              "\n",
              "    .dataframe thead th {\n",
              "        text-align: right;\n",
              "    }\n",
              "</style>\n",
              "<table border=\"1\" class=\"dataframe\">\n",
              "  <thead>\n",
              "    <tr style=\"text-align: right;\">\n",
              "      <th></th>\n",
              "      <th>Country</th>\n",
              "      <th>Inmigrant</th>\n",
              "    </tr>\n",
              "  </thead>\n",
              "  <tbody>\n",
              "    <tr>\n",
              "      <th>124</th>\n",
              "      <td>Peru</td>\n",
              "      <td>566630</td>\n",
              "    </tr>\n",
              "    <tr>\n",
              "      <th>33</th>\n",
              "      <td>Colombia</td>\n",
              "      <td>223590</td>\n",
              "    </tr>\n",
              "    <tr>\n",
              "      <th>19</th>\n",
              "      <td>Bolivia</td>\n",
              "      <td>192347</td>\n",
              "    </tr>\n",
              "    <tr>\n",
              "      <th>6</th>\n",
              "      <td>Argentina</td>\n",
              "      <td>79747</td>\n",
              "    </tr>\n",
              "    <tr>\n",
              "      <th>44</th>\n",
              "      <td>Ecuador</td>\n",
              "      <td>55227</td>\n",
              "    </tr>\n",
              "  </tbody>\n",
              "</table>\n",
              "</div>"
            ]
          },
          "metadata": {},
          "execution_count": 11
        }
      ]
    },
    {
      "cell_type": "markdown",
      "source": [
        "### Plotting a chart\n",
        "\n",
        "You can also use PandasAI to easily plot a chart"
      ],
      "metadata": {
        "id": "Pl_PQflF4_1u"
      }
    },
    {
      "cell_type": "code",
      "source": [
        "sdf.chat(\"grafica un histograma de cantidad de inmigrantes Peru por cada año\")"
      ],
      "metadata": {
        "colab": {
          "base_uri": "https://localhost:8080/",
          "height": 406
        },
        "id": "us1r15KQjZlu",
        "outputId": "3112d2b0-014a-41c4-f2b6-2a91c9bcf6ac"
      },
      "execution_count": null,
      "outputs": [
        {
          "output_type": "display_data",
          "data": {
            "text/plain": [
              "<Figure size 640x480 with 1 Axes>"
            ],
            "image/png": "[encoded data removed]"
          },
          "metadata": {}
        }
      ]
    },
    {
      "cell_type": "code",
      "source": [
        "sdf.chat(\"haz un grafico de barras en seaborn donde el eje y sea cantidad de inmigrantes del país venezuela y el eje x sea cada año\")"
      ],
      "metadata": {
        "id": "3yPy1U1cNDq5",
        "outputId": "58461379-62ca-47fb-8d09-01073eedb6a1",
        "colab": {
          "base_uri": "https://localhost:8080/",
          "height": 517
        }
      },
      "execution_count": null,
      "outputs": [
        {
          "output_type": "stream",
          "name": "stderr",
          "text": [
            "WARNING:pandasai.helpers.logger:Error of executing code\n"
          ]
        },
        {
          "output_type": "display_data",
          "data": {
            "text/plain": [
              "<Figure size 1000x600 with 1 Axes>"
            ],
            "image/png": "[encoded data removed]"
          },
          "metadata": {}
        }
      ]
    },
    {
      "cell_type": "markdown",
      "source": [
        "### Last code generated\n",
        "\n",
        "Código utilizado para corregir o ajustar según *necesidad*"
      ],
      "metadata": {
        "id": "8DYdyVo2ZNu3"
      }
    },
    {
      "cell_type": "code",
      "source": [
        "print(sdf.last_code_generated)"
      ],
      "metadata": {
        "colab": {
          "base_uri": "https://localhost:8080/"
        },
        "id": "uzOEjV3LjqDF",
        "outputId": "70426ca0-2011-4f4e-c48e-f52d0b142871"
      },
      "execution_count": null,
      "outputs": [
        {
          "output_type": "stream",
          "name": "stdout",
          "text": [
            "def analyze_data(dfs: list[pd.DataFrame]) ->dict:\n",
            "    \"\"\"\n",
            "    Analyze the data\n",
            "    1. Prepare: Preprocessing and cleaning data if necessary\n",
            "    2. Process: Manipulating data for analysis (grouping, filtering, aggregating, etc.)\n",
            "    3. Analyze: Conducting the actual analysis (if the user asks to plot a chart save it to an image in exports/charts/temp_chart.png and do not show the chart.)\n",
            "    4. Output: return a dictionary of:\n",
            "    - type (possible values \"text\", \"number\", \"dataframe\", \"plot\")\n",
            "    - value (can be a string, a dataframe or the path of the plot, NOT a dictionary)\n",
            "    Example output: { \"type\": \"text\", \"value\": \"The average loan amount is $15,000.\" }\n",
            "    \"\"\"\n",
            "    df = dfs[0]\n",
            "    df_venezuela = df[df['Country'] == 'Venezuela']\n",
            "    plt.figure(figsize=(10, 6))\n",
            "    sns.barplot(x='Año', y='Inmigrant', data=df_venezuela)\n",
            "    plt.xlabel('Year')\n",
            "    plt.ylabel('Number of Immigrants')\n",
            "    plt.title('Number of Immigrants from Venezuela by Year')\n",
            "    plt.savefig('exports/charts/temp_chart.png')\n",
            "    plt.close()\n",
            "    return {'type': 'plot', 'value': 'exports/charts/temp_chart.png'}\n"
          ]
        }
      ]
    },
    {
      "cell_type": "code",
      "source": [
        "sdf.chat(\"haz gráfico de torta por cantidad de inmigrantes para cada continente, ponle como título: Immigration to Chile by Continent (exc.America) [2005 - 2016], ademas utiliza plt.legend(labels=df_rest_continents.index, loc='upper left')\")"
      ],
      "metadata": {
        "id": "zRmEorVnVe56",
        "outputId": "3328fe55-bde1-4bd7-85ce-b97306618b3c",
        "colab": {
          "base_uri": "https://localhost:8080/",
          "height": 406
        }
      },
      "execution_count": null,
      "outputs": [
        {
          "output_type": "display_data",
          "data": {
            "text/plain": [
              "<Figure size 640x480 with 1 Axes>"
            ],
            "image/png": "[encoded data removed]"
          },
          "metadata": {}
        }
      ]
    },
    {
      "cell_type": "code",
      "source": [
        "print(sdf.last_code_generated)"
      ],
      "metadata": {
        "id": "vMdSBvJWcPVs",
        "outputId": "7a9e10a0-362b-480e-ba3b-c91bfb9ed443",
        "colab": {
          "base_uri": "https://localhost:8080/"
        }
      },
      "execution_count": null,
      "outputs": [
        {
          "output_type": "stream",
          "name": "stdout",
          "text": [
            "def analyze_data(dfs: list[pd.DataFrame]) ->dict:\n",
            "    \"\"\"\n",
            "    Analyze the data\n",
            "    1. Prepare: Preprocessing and cleaning data if necessary\n",
            "    2. Process: Manipulating data for analysis (grouping, filtering, aggregating, etc.)\n",
            "    3. Analyze: Conducting the actual analysis (if the user asks to plot a chart save it to an image in exports/charts/temp_chart.png and do not show the chart.)\n",
            "    4. Output: return a dictionary of:\n",
            "    - type (possible values \"text\", \"number\", \"dataframe\", \"plot\")\n",
            "    - value (can be a string, a dataframe or the path of the plot, NOT a dictionary)\n",
            "    Example output: { \"type\": \"text\", \"value\": \"The average loan amount is $15,000.\" }\n",
            "    \"\"\"\n",
            "    df = dfs[0]\n",
            "    df_rest_continents = df[df['Continent'] != 'America'].groupby('Continent')['Inmigrant'].sum()\n",
            "    plt.figure(figsize=(8, 6))\n",
            "    plt.pie(df_rest_continents, labels=df_rest_continents.index, autopct='%1.1f%%')\n",
            "    plt.title('Immigration to Chile by Continent (exc.America) [2005 - 2016]')\n",
            "    plt.savefig('exports/charts/temp_chart.png')\n",
            "    plt.close()\n",
            "    return {'type': 'plot', 'value': 'exports/charts/temp_chart.png'}\n"
          ]
        }
      ]
    },
    {
      "cell_type": "markdown",
      "source": [
        "# Atajos"
      ],
      "metadata": {
        "id": "-VoPwVSPcVWI"
      }
    },
    {
      "cell_type": "markdown",
      "source": [
        "Como alternativa, puede utilizar \"atajos\". Los atajos son funciones que evitan que usted escriba un mensaje y \"haga la magia\" bajo el capó por usted.\n",
        "\n",
        "Por ejemplo, puedes usar `.plot_bar_chart()` para generar el mismo gráfico, proporcionando el campo:"
      ],
      "metadata": {
        "id": "ypcZrF9L6N-T"
      }
    },
    {
      "cell_type": "code",
      "source": [
        "sdf.plot_bar_chart(x=\"continent\", y=\"immigrants in thousands\")"
      ],
      "metadata": {
        "id": "QuheJpPq52X-"
      },
      "execution_count": null,
      "outputs": []
    },
    {
      "cell_type": "markdown",
      "source": [
        "So for example if we want to visualize as a pie chart, you can instead call the `plot_pie_chart` shortcut, passing the field we want ot use as labels and the one we want to use as values."
      ],
      "metadata": {
        "id": "IU4WMVP_K4zP"
      }
    },
    {
      "cell_type": "code",
      "source": [
        "sdf.plot_pie_chart(labels=\"top 5 countries\", values=\"inmigrants\")"
      ],
      "metadata": {
        "colab": {
          "base_uri": "https://localhost:8080/",
          "height": 406
        },
        "id": "0HUY4PkV9w-O",
        "outputId": "97d9de6f-f6d0-4bc7-8d18-b9b8a0542827"
      },
      "execution_count": null,
      "outputs": [
        {
          "output_type": "display_data",
          "data": {
            "text/plain": [
              "<Figure size 640x480 with 1 Axes>"
            ],
            "image/png": "[encoded data removed]"
          },
          "metadata": {}
        }
      ]
    },
    {
      "cell_type": "markdown",
      "source": [
        "# SmartDatalake\n",
        "\n",
        "A veces, es posible que desee trabajar con varios marcos de datos a la vez, permitiendo que el LLM orqueste cuál usar para responder sus consultas. En tales casos, en lugar de utilizar un SmartDataframe, debería utilizar un SmartDatalake.\n",
        "\n",
        "El concepto es muy similar al SmartDataframe, pero en lugar de aceptar solo 1 df como entrada, puede aceptar varios."
      ],
      "metadata": {
        "id": "JvFf3OQPJ2T5"
      }
    },
    {
      "cell_type": "code",
      "source": [
        "from pandasai import SmartDatalake"
      ],
      "metadata": {
        "id": "Xf-q8r35KYL1"
      },
      "execution_count": null,
      "outputs": []
    },
    {
      "cell_type": "markdown",
      "source": [
        "For example, in this example, we are provided with 2 different dfs.\n",
        "In the first one, it's reported for each employee, an employee id, a name and a department.\n",
        "In the second one, instad, it's provided the employee id and the salary for each employee.\n",
        "\n",
        "Asking PandasAI, it will join the 2 different dataframes by id and figure out the name of the one that is paid the most."
      ],
      "metadata": {
        "id": "yX3Ph1yYKfst"
      }
    },
    {
      "cell_type": "code",
      "source": [
        "employees_df = pd.DataFrame(\n",
        "    {\n",
        "        \"EmployeeID\": [1, 2, 3, 4, 5],\n",
        "        \"Name\": [\"John\", \"Emma\", \"Liam\", \"Olivia\", \"William\"],\n",
        "        \"Department\": [\"HR\", \"Sales\", \"IT\", \"Marketing\", \"Finance\"],\n",
        "    }\n",
        ")\n",
        "\n",
        "salaries_df = pd.DataFrame(\n",
        "    {\n",
        "        \"EmployeeID\": [1, 2, 3, 4, 5],\n",
        "        \"Salary\": [5000, 6000, 4500, 7000, 5500],\n",
        "    }\n",
        ")\n",
        "\n",
        "lake = SmartDatalake(\n",
        "    [employees_df, salaries_df],\n",
        "    config={\"llm\": llm}\n",
        ")\n",
        "lake.chat(\"Who gets paid the most?\")"
      ],
      "metadata": {
        "colab": {
          "base_uri": "https://localhost:8080/",
          "height": 35
        },
        "id": "3GIglds_KbHo",
        "outputId": "2c17a47e-c721-4cea-90b1-d75b45d9d28e"
      },
      "execution_count": null,
      "outputs": [
        {
          "output_type": "execute_result",
          "data": {
            "text/plain": [
              "'The employee who gets paid the most is Olivia.'"
            ],
            "application/vnd.google.colaboratory.intrinsic+json": {
              "type": "string"
            }
          },
          "metadata": {},
          "execution_count": 20
        }
      ]
    },
    {
      "cell_type": "markdown",
      "source": [
        "Here's an example of the code that is generated:"
      ],
      "metadata": {
        "id": "FVElosbbK-_i"
      }
    },
    {
      "cell_type": "code",
      "source": [
        "print(lake.last_code_executed)"
      ],
      "metadata": {
        "colab": {
          "base_uri": "https://localhost:8080/"
        },
        "id": "jyaxD4N4LEl2",
        "outputId": "ca50f802-2880-46d1-e924-3d0f13127715"
      },
      "execution_count": null,
      "outputs": [
        {
          "output_type": "stream",
          "name": "stdout",
          "text": [
            "def analyze_data(dfs: list[pd.DataFrame]) ->dict:\n",
            "    \"\"\"\n",
            "    Analyze the data\n",
            "    1. Prepare: Preprocessing and cleaning data if necessary\n",
            "    2. Process: Manipulating data for analysis (grouping, filtering, aggregating, etc.)\n",
            "    3. Analyze: Conducting the actual analysis (if the user asks to plot a chart save it to an image in exports/charts/temp_chart.png and do not show the chart.)\n",
            "    4. Output: return a dictionary of:\n",
            "    - type (possible values \"text\", \"number\", \"dataframe\", \"plot\")\n",
            "    - value (can be a string, a dataframe or the path of the plot, NOT a dictionary)\n",
            "    Example output: { \"type\": \"text\", \"value\": \"The average loan amount is $15,000.\" }\n",
            "    \"\"\"\n",
            "    merged_df = pd.merge(dfs[0], dfs[1], on='EmployeeID')\n",
            "    max_salary_employee = merged_df.loc[merged_df['Salary'].idxmax()]\n",
            "    return {'type': 'text', 'value': f\"The employee who gets paid the most is {max_salary_employee['Name']}.\"}\n"
          ]
        }
      ]
    },
    {
      "cell_type": "markdown",
      "source": [
        "Ok in this case it was easy: both the tables are share a common value called `EmployeeID`, right?\n",
        "\n",
        "Let's try with something more complex"
      ],
      "metadata": {
        "id": "wr-xjtHvMf_q"
      }
    },
    {
      "cell_type": "code",
      "source": [
        "users_df = pd.DataFrame(\n",
        "    {\n",
        "        \"id\": [1, 2, 3, 4, 5],\n",
        "        \"name\": [\"John\", \"Emma\", \"Liam\", \"Olivia\", \"William\"]\n",
        "    }\n",
        ")\n",
        "users = SmartDataframe(users_df, name=\"users\")\n",
        "\n",
        "photos_df = pd.DataFrame(\n",
        "    {\n",
        "        \"id\": [31, 32, 33, 34, 35],\n",
        "        \"user_id\": [1, 1, 2, 4, 5]\n",
        "    }\n",
        ")\n",
        "photos = SmartDataframe(photos_df, name=\"photos\")\n",
        "\n",
        "lake = SmartDatalake([users, photos], config={\"llm\": llm})\n",
        "lake.chat(\"How many photos has been uploaded by John?\")"
      ],
      "metadata": {
        "colab": {
          "base_uri": "https://localhost:8080/"
        },
        "id": "VjJc8HH9MfNH",
        "outputId": "8785dc4c-23d8-459b-eeec-406e76625161"
      },
      "execution_count": null,
      "outputs": [
        {
          "output_type": "execute_result",
          "data": {
            "text/plain": [
              "2"
            ]
          },
          "metadata": {},
          "execution_count": 22
        }
      ]
    },
    {
      "cell_type": "markdown",
      "source": [
        "In this case we provided for each df a table name, so that the LLM has some context and can better perform the joins. As you can see on the example below, it succeeded at figuring out the right join to do. In fact, the user \"John\" has actually 2 photos."
      ],
      "metadata": {
        "id": "pstO0KLvNjK9"
      }
    },
    {
      "cell_type": "code",
      "source": [
        "print(lake.last_code_executed)"
      ],
      "metadata": {
        "colab": {
          "base_uri": "https://localhost:8080/"
        },
        "id": "7KNnAKWyNenA",
        "outputId": "c195ecf0-6e1a-4123-c3d5-a09aebae1191"
      },
      "execution_count": null,
      "outputs": [
        {
          "output_type": "stream",
          "name": "stdout",
          "text": [
            "def analyze_data(dfs: list[pd.DataFrame]) ->dict:\n",
            "    \"\"\"\n",
            "    Analyze the data\n",
            "    1. Prepare: Preprocessing and cleaning data if necessary\n",
            "    2. Process: Manipulating data for analysis (grouping, filtering, aggregating, etc.)\n",
            "    3. Analyze: Conducting the actual analysis (if the user asks to plot a chart save it to an image in exports/charts/temp_chart.png and do not show the chart.)\n",
            "    4. Output: return a dictionary of:\n",
            "    - type (possible values \"text\", \"number\", \"dataframe\", \"plot\")\n",
            "    - value (can be a string, a dataframe or the path of the plot, NOT a dictionary)\n",
            "    Example output: { \"type\": \"text\", \"value\": \"The average loan amount is $15,000.\" }\n",
            "    \"\"\"\n",
            "    users = dfs[0]\n",
            "    photos = dfs[1]\n",
            "    john_id = users.loc[users['name'] == 'John', 'id'].values[0]\n",
            "    john_photos = photos.loc[photos['user_id'] == john_id]\n",
            "    num_photos = len(john_photos)\n",
            "    return {'type': 'number', 'value': num_photos}\n"
          ]
        }
      ]
    }
  ]
}